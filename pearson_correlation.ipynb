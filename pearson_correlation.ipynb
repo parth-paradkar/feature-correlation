{
 "cells": [
  {
   "cell_type": "markdown",
   "metadata": {},
   "source": [
    "# Understanding correlation \n",
    "\n",
    "\n",
    "One of the main questions I faced while exploring data was that how can I measure the strength of the relationship between two features of the data. \n",
    "\n",
    "For example, how is the price of a car related with its mileage? How do we quantify their interdependence? How strong is the relationship? \n",
    "\n",
    "I attempt to explore this mathematically in this notebook."
   ]
  },
  {
   "cell_type": "code",
   "execution_count": 47,
   "metadata": {},
   "outputs": [],
   "source": [
    "# Importing the required libraries\n",
    "import pandas as pd\n",
    "import seaborn as sns"
   ]
  },
  {
   "cell_type": "markdown",
   "metadata": {},
   "source": [
    "### We shall consider a dataset that gives the specifications of cars and their prices.\n",
    "Dataset link: https://archive.ics.uci.edu/ml/datasets/automobile"
   ]
  },
  {
   "cell_type": "code",
   "execution_count": 48,
   "metadata": {},
   "outputs": [],
   "source": [
    "df = pd.read_csv(\"Automobile_data.csv\")\n",
    "\n",
    "# We shall consider three variables: the logarithm of the price, city mileage, curb weight.\n",
    "test_df = pd.read_csv('corr_data.csv')"
   ]
  },
  {
   "cell_type": "markdown",
   "metadata": {},
   "source": [
    "## The Pearson Correlation Coefficient\n",
    "\n",
    "To measure the linear correlation between variables, correlation coefficients are defined. One such coefficient that pandas uses by default is the Pearson correlation coefficient.\n",
    "\n",
    "Suppose we have two features (columns in the data) of the data: X and Y. Each feature contains N data points. Pearson correlation $r_{XY}$ is defined as:\n",
    "\n",
    "$$r_{XY} = \\frac{\\sum_{i=1}^N(X_i - \\overline{X})(Y_i - \\overline{Y})}{\\sqrt{\\sum_{i=1}^N(X_i - \\overline{X})^2}\\sqrt{\\sum_{i=1}^N(Y_i - \\overline{Y})^2}}$$\n",
    "\n",
    "Here, $\\overline{X}$ represents the mean of all the values of $X$. \n",
    "\n",
    "A value of 1 represents positive linear dependence i.e. $Y_{i} = mX_{i} + C$ where $m > 0$. \n",
    "\n",
    "A value of -1 represents negative linear dependence i.e. $Y_{i} = mX_{i} + C$ where $m < 0$\n",
    "\n",
    "As we rarely find data that has exact linear dependence, the values of $r_{XY}$ practically lie between 1 and -1. Values closer to 0 represent little or no linear correlation between the two variables.\n"
   ]
  },
  {
   "cell_type": "markdown",
   "metadata": {},
   "source": [
    "Let us investigate the different components of the above mathematical expression.\n",
    "\n",
    "1. $(X_{i} - \\overline{X})$ \n",
    "\n",
    "This expresses the distance of the $i^{th}$ from $\\overline{X}$. If $X_{i}$ is greater than the mean X value, its value will be positive and vice versa.\n",
    "\n",
    "2. Similarly, $(Y_{i} - \\overline{Y})$ is calculated. \n",
    " \n",
    " \n",
    "3. $\\sqrt{\\sum_{i=1}^N(X_i - \\overline{X})^2}$ and $\\sqrt{\\sum_{i=1}^N(Y_i - \\overline{Y})^2}$ \n",
    "\n",
    "The value of the numerator in the expression or $r_{XY}$ will depend upon the actual values of X and Y. Assume that we are dealing with values of $X$ and $Y$ that are quite high. We will correspondingly obtain high values of $X_{i} - \\overline{X}$ and $Y_{i} - \\overline{Y}$. Hence the value of the coefficient will not be constrained between 1 and -1. \n",
    "\n",
    "The above expressions normalize the coefficient.\n",
    "\n",
    "Let us head over to a practical example.\n"
   ]
  },
  {
   "cell_type": "markdown",
   "metadata": {},
   "source": [
    "We'll consider three features of the data: `log_price`: which is the logarithm of the price of the car; `city-mpg`: the city mileage of cars; `curb-weight`: the total mass of the vehicle without any passengers or cargo"
   ]
  },
  {
   "cell_type": "code",
   "execution_count": 49,
   "metadata": {},
   "outputs": [
    {
     "data": {
      "text/html": [
       "<div>\n",
       "<style scoped>\n",
       "    .dataframe tbody tr th:only-of-type {\n",
       "        vertical-align: middle;\n",
       "    }\n",
       "\n",
       "    .dataframe tbody tr th {\n",
       "        vertical-align: top;\n",
       "    }\n",
       "\n",
       "    .dataframe thead th {\n",
       "        text-align: right;\n",
       "    }\n",
       "</style>\n",
       "<table border=\"1\" class=\"dataframe\">\n",
       "  <thead>\n",
       "    <tr style=\"text-align: right;\">\n",
       "      <th></th>\n",
       "      <th>log_price</th>\n",
       "      <th>city-mpg</th>\n",
       "      <th>curb-weight</th>\n",
       "    </tr>\n",
       "  </thead>\n",
       "  <tbody>\n",
       "    <tr>\n",
       "      <th>0</th>\n",
       "      <td>9.510075</td>\n",
       "      <td>21.0</td>\n",
       "      <td>2548</td>\n",
       "    </tr>\n",
       "    <tr>\n",
       "      <th>1</th>\n",
       "      <td>9.711116</td>\n",
       "      <td>21.0</td>\n",
       "      <td>2548</td>\n",
       "    </tr>\n",
       "    <tr>\n",
       "      <th>2</th>\n",
       "      <td>9.711116</td>\n",
       "      <td>19.0</td>\n",
       "      <td>2823</td>\n",
       "    </tr>\n",
       "    <tr>\n",
       "      <th>3</th>\n",
       "      <td>9.543235</td>\n",
       "      <td>24.0</td>\n",
       "      <td>2337</td>\n",
       "    </tr>\n",
       "    <tr>\n",
       "      <th>4</th>\n",
       "      <td>9.767095</td>\n",
       "      <td>18.0</td>\n",
       "      <td>2824</td>\n",
       "    </tr>\n",
       "  </tbody>\n",
       "</table>\n",
       "</div>"
      ],
      "text/plain": [
       "   log_price  city-mpg  curb-weight\n",
       "0   9.510075      21.0         2548\n",
       "1   9.711116      21.0         2548\n",
       "2   9.711116      19.0         2823\n",
       "3   9.543235      24.0         2337\n",
       "4   9.767095      18.0         2824"
      ]
     },
     "execution_count": 49,
     "metadata": {},
     "output_type": "execute_result"
    }
   ],
   "source": [
    "test_df = test_df.drop(['Unnamed: 0'], axis=1)\n",
    "test_df.head()"
   ]
  },
  {
   "cell_type": "markdown",
   "metadata": {},
   "source": [
    "The correlation coefficients between each of the 3 features can be obtained from the corr() function offered by pandas"
   ]
  },
  {
   "cell_type": "code",
   "execution_count": 51,
   "metadata": {},
   "outputs": [
    {
     "data": {
      "text/html": [
       "<div>\n",
       "<style scoped>\n",
       "    .dataframe tbody tr th:only-of-type {\n",
       "        vertical-align: middle;\n",
       "    }\n",
       "\n",
       "    .dataframe tbody tr th {\n",
       "        vertical-align: top;\n",
       "    }\n",
       "\n",
       "    .dataframe thead th {\n",
       "        text-align: right;\n",
       "    }\n",
       "</style>\n",
       "<table border=\"1\" class=\"dataframe\">\n",
       "  <thead>\n",
       "    <tr style=\"text-align: right;\">\n",
       "      <th></th>\n",
       "      <th>log_price</th>\n",
       "      <th>city-mpg</th>\n",
       "      <th>curb-weight</th>\n",
       "    </tr>\n",
       "  </thead>\n",
       "  <tbody>\n",
       "    <tr>\n",
       "      <th>log_price</th>\n",
       "      <td>1.000000</td>\n",
       "      <td>-0.774933</td>\n",
       "      <td>0.891455</td>\n",
       "    </tr>\n",
       "    <tr>\n",
       "      <th>city-mpg</th>\n",
       "      <td>-0.774933</td>\n",
       "      <td>1.000000</td>\n",
       "      <td>-0.749543</td>\n",
       "    </tr>\n",
       "    <tr>\n",
       "      <th>curb-weight</th>\n",
       "      <td>0.891455</td>\n",
       "      <td>-0.749543</td>\n",
       "      <td>1.000000</td>\n",
       "    </tr>\n",
       "  </tbody>\n",
       "</table>\n",
       "</div>"
      ],
      "text/plain": [
       "             log_price  city-mpg  curb-weight\n",
       "log_price     1.000000 -0.774933     0.891455\n",
       "city-mpg     -0.774933  1.000000    -0.749543\n",
       "curb-weight   0.891455 -0.749543     1.000000"
      ]
     },
     "execution_count": 51,
     "metadata": {},
     "output_type": "execute_result"
    }
   ],
   "source": [
    "test_df.corr()"
   ]
  },
  {
   "cell_type": "markdown",
   "metadata": {},
   "source": [
    "I will try and give you a mathematical intuition of what is actually happening behind the scenes."
   ]
  },
  {
   "cell_type": "code",
   "execution_count": 52,
   "metadata": {},
   "outputs": [
    {
     "data": {
      "text/plain": [
       "log_price         9.350115\n",
       "city-mpg         25.179104\n",
       "curb-weight    2555.666667\n",
       "dtype: float64"
      ]
     },
     "execution_count": 52,
     "metadata": {},
     "output_type": "execute_result"
    }
   ],
   "source": [
    "# Calculating the mean values of each column\n",
    "\n",
    "avgs = test_df.mean()\n",
    "avgs"
   ]
  },
  {
   "cell_type": "code",
   "execution_count": 53,
   "metadata": {},
   "outputs": [
    {
     "data": {
      "text/plain": [
       "<matplotlib.collections.PathCollection at 0x7f2d5324a240>"
      ]
     },
     "execution_count": 53,
     "metadata": {},
     "output_type": "execute_result"
    },
    {
     "data": {
      "image/png": "[encoded data removed]",
      "text/plain": [
       "<Figure size 432x432 with 3 Axes>"
      ]
     },
     "metadata": {
      "needs_background": "light"
     },
     "output_type": "display_data"
    }
   ],
   "source": [
    "plot1 = sns.jointplot(x=\"curb-weight\", y=\"log_price\", data=test_df, color='gray')\n",
    "plot1.ax_joint.scatter(avgs[\"curb-weight\"], avgs[\"log_price\"], color='red')\n",
    "plot1.ax_joint.scatter(3000, 10, color='green')\n",
    "plot1.ax_joint.scatter(2000, 9, color='blue')"
   ]
  },
  {
   "cell_type": "markdown",
   "metadata": {},
   "source": [
    "## Consider the relationship between the variables log_price and curb_weight\n",
    "\n",
    "Looking at the graph above, we find that the two variables have a strong positive linear interdependence. Higher the curb weight, higher is the price. This is also apparent from the correlation matrix above as the Pearson coefficient has a value of 0.891455.\n",
    "\n",
    "The red point represents $(\\overline{X}, \\overline{Y})$. \n",
    "\n",
    "Consider the two points shown in green and blue lying on opposite sides of the red point.\n",
    "\n",
    "Let the green point be the $m^{th}$ point. Looking at its position, we can infer that $X_{m} - \\overline{X} > 0$ and $Y_{m} - \\overline{Y} > 0$. \n",
    "\n",
    "Hence, $(X_{m} - \\overline{X})(Y_{m} - \\overline{Y}) > 0$\n",
    "\n",
    "Let the blue point be the $k^{th}$ point. From its position, we can say that $X_{m} - \\overline{X} < 0$ and $Y_{m} - \\overline{Y} < 0$. \n",
    "\n",
    "Hence, $(X_{k} - \\overline{X})(Y_{k} - \\overline{Y}) > 0$\n",
    "\n",
    "Thus, for points lying to the top-right and bottom-left of $(\\overline{X}, \\overline{Y})$ will give positive values of the above product. The numerator of $r_{XY}$ is the sum of all such products. Hence for these two features, a net positive sum will be obtained, which will be normalized to values between 0 and 1."
   ]
  },
  {
   "cell_type": "code",
   "execution_count": 54,
   "metadata": {},
   "outputs": [
    {
     "data": {
      "text/plain": [
       "<matplotlib.collections.PathCollection at 0x7f2d53131be0>"
      ]
     },
     "execution_count": 54,
     "metadata": {},
     "output_type": "execute_result"
    },
    {
     "data": {
      "image/png": "[encoded data removed]",
      "text/plain": [
       "<Figure size 432x432 with 3 Axes>"
      ]
     },
     "metadata": {
      "needs_background": "light"
     },
     "output_type": "display_data"
    }
   ],
   "source": [
    "plot1 = sns.jointplot(x=\"city-mpg\", y=\"log_price\", data=test_df, color='gray')\n",
    "plot1.ax_joint.scatter(avgs[\"city-mpg\"], avgs[\"log_price\"], color='red')\n",
    "plot1.ax_joint.scatter(17, 10, color='blue')\n",
    "plot1.ax_joint.scatter(30, 9, color='green')"
   ]
  },
  {
   "cell_type": "markdown",
   "metadata": {},
   "source": [
    "## A similar analysis can be done for city-mpg and log_price in the graph above\n",
    "For the green($m^{th}$) point, $X_{m} - \\overline{X} > 0$ and $Y_{m} - \\overline{Y} < 0$. \n",
    "\n",
    "Hence, $(X_{k} - \\overline{X})(Y_{k} - \\overline{Y}) < 0$\n",
    "\n",
    "For the blue($k^{th}$) point, $X_{m} - \\overline{X} < 0$ and $Y_{m} - \\overline{Y} > 0$. \n",
    "\n",
    "Hence, $(X_{k} - \\overline{X})(Y_{k} - \\overline{Y}) < 0$\n",
    "\n",
    "For all point lying to the top-left and bottom-right will have negative values of the above product. The net sum of these values will ultimately be negative. The value of $r_{XY}$ will lie between -1 and 0"
   ]
  },
  {
   "cell_type": "markdown",
   "metadata": {},
   "source": [
    "## Final thoughts\n",
    "\n",
    "Using some simple mathematical techniques, we have simply divided the graph into four parts: top-left of the mean point, top-right of the mean point, bottom-left of the mean point and bottom-right of the mean point. We find the pair of quadrants in which majority of data points live and then infer the nature of the interdependence of the two variables under consideration. \n",
    "\n",
    "The correlation matrix can be visualized using heatmaps in seaborn."
   ]
  },
  {
   "cell_type": "code",
   "execution_count": 55,
   "metadata": {},
   "outputs": [
    {
     "data": {
      "text/plain": [
       "<matplotlib.axes._subplots.AxesSubplot at 0x7f2d53101160>"
      ]
     },
     "execution_count": 55,
     "metadata": {},
     "output_type": "execute_result"
    },
    {
     "data": {
      "image/png": "[encoded data removed]",
      "text/plain": [
       "<Figure size 432x288 with 2 Axes>"
      ]
     },
     "metadata": {
      "needs_background": "light"
     },
     "output_type": "display_data"
    }
   ],
   "source": [
    "sns.heatmap(test_df.corr())"
   ]
  },
  {
   "cell_type": "markdown",
   "metadata": {},
   "source": [
    "For a larger number of features, the correlation can be easily understood with a heatmap."
   ]
  },
  {
   "cell_type": "code",
   "execution_count": 56,
   "metadata": {},
   "outputs": [
    {
     "data": {
      "text/plain": [
       "<matplotlib.axes._subplots.AxesSubplot at 0x7f2d53019c50>"
      ]
     },
     "execution_count": 56,
     "metadata": {},
     "output_type": "execute_result"
    },
    {
     "data": {
      "image/png": "[encoded data removed]",
      "text/plain": [
       "<Figure size 432x288 with 2 Axes>"
      ]
     },
     "metadata": {
      "needs_background": "light"
     },
     "output_type": "display_data"
    }
   ],
   "source": [
    "sns.heatmap(df.corr())"
   ]
  },
  {
   "cell_type": "code",
   "execution_count": null,
   "metadata": {},
   "outputs": [],
   "source": []
  }
 ],
 "metadata": {
  "kernelspec": {
   "display_name": "Python 3",
   "language": "python",
   "name": "python3"
  },
  "language_info": {
   "codemirror_mode": {
    "name": "ipython",
    "version": 3
   },
   "file_extension": ".py",
   "mimetype": "text/x-python",
   "name": "python",
   "nbconvert_exporter": "python",
   "pygments_lexer": "ipython3",
   "version": "3.7.3"
  },
  "varInspector": {
   "cols": {
    "lenName": 16,
    "lenType": 16,
    "lenVar": 40
   },
   "kernels_config": {
    "python": {
     "delete_cmd_postfix": "",
     "delete_cmd_prefix": "del ",
     "library": "var_list.py",
     "varRefreshCmd": "print(var_dic_list())"
    },
    "r": {
     "delete_cmd_postfix": ") ",
     "delete_cmd_prefix": "rm(",
     "library": "var_list.r",
     "varRefreshCmd": "cat(var_dic_list()) "
    }
   },
   "types_to_exclude": [
    "module",
    "function",
    "builtin_function_or_method",
    "instance",
    "_Feature"
   ],
   "window_display": false
  }
 },
 "nbformat": 4,
 "nbformat_minor": 2
}
